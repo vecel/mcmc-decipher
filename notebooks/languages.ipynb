{
 "cells": [
  {
   "cell_type": "code",
   "execution_count": 2,
   "id": "a9234ac4",
   "metadata": {},
   "outputs": [],
   "source": [
    "import sys\n",
    "import matplotlib.pyplot as plt\n",
    "import json\n",
    "import numpy as np\n",
    "from matplotlib.lines import Line2D\n",
    "import random\n",
    "\n",
    "sys.path.append(\"..\")"
   ]
  },
  {
   "cell_type": "code",
   "execution_count": 3,
   "id": "264cf448",
   "metadata": {},
   "outputs": [],
   "source": [
    "from src.constants import LANG_CODES, FGN_ALPH\n",
    "from src.cipher_utils import create_encryption_dict, encode\n",
    "from src.mcmc import cross_validation, eval_close_solutions_lw"
   ]
  },
  {
   "cell_type": "code",
   "execution_count": 4,
   "id": "d3ac0a34",
   "metadata": {},
   "outputs": [],
   "source": [
    "lang = \"SV\"\n",
    "with open(\"../data/\" + lang.lower() + \"_corpus.txt\") as file:\n",
    "    corpus = file.read()"
   ]
  },
  {
   "cell_type": "code",
   "execution_count": 5,
   "id": "7ffc256b",
   "metadata": {},
   "outputs": [
    {
     "name": "stdout",
     "output_type": "stream",
     "text": [
      "SV corpus has 2768501 characters\n"
     ]
    }
   ],
   "source": [
    "print(lang + \" corpus has \" + str(len(corpus)) + \" characters\")"
   ]
  },
  {
   "cell_type": "code",
   "execution_count": 6,
   "id": "59dd7747",
   "metadata": {},
   "outputs": [],
   "source": [
    "lang_perc_dicts ={}\n",
    "lang_encryption_dicts = {}\n",
    "for lang_code in LANG_CODES:\n",
    "\n",
    "    with open(\"../data/\" + lang_code +\"_perc_dict.json\") as file:\n",
    "        perc_dict = json.load(file)\n",
    "        lang_perc_dicts[lang_code] = perc_dict\n",
    "\n",
    "    lang_encryption_dicts[lang_code] = create_encryption_dict(FGN_ALPH[lang_code])"
   ]
  },
  {
   "cell_type": "code",
   "execution_count": 7,
   "id": "7b831109",
   "metadata": {},
   "outputs": [],
   "source": [
    "messages = {\"pl\" : \"W sercu lasu mieszkał kotek Epsilon, szary z białymi łatkami i oczami jak dwa księżyce. Podczas wędrówki odkrył ścieżkę wśród malin, która zaprowadziła go na polanę z fioletowymi kwiatami i błyszczącymi kamykami. Jeden z nich świecił jaśniej. Zabrał go, po drodze spotykając żuka, który opowiedział legendę o kamieniach spełniających życzenia. Epsilon zapragnął, by las pozostał nienaruszony. Wkrótce zauważył, że las stał się piękniejszy.\".lower(),\n",
    "            \"hu\" : \"Az erdő szívében élt Epsilon cica, szürke bundával, fehér foltokkal és két holdként ragyogó szemmel. Egyik sétája során egy málnafákkal benőtt ösvényt fedezett fel, amely egy tisztásra vezetett, tele lila virágokkal és csillogó kavicsokkal. Az egyik kő fényesebben ragyogott a többinél. Epsilon elvitte magával, útközben találkozott egy bogárral, aki egy kívánságteljesítő kövekről szóló legendát mesélt. Epsilon azt kívánta, hogy az erdő érintetlen maradjon. Hamarosan észrevette, hogy az erdő még szebb lett.\".lower(),\n",
    "            \"sv\" : \"I skogens hjärta bodde katten Epsilon, grå med vita fläckar och ögon som två månar. Under en vandring upptäckte han en stig bland hallonbuskarna som ledde till en glänta med lila blommor och glänsande små stenar. En av dem lyste starkare. Han tog den med sig och mötte på vägen en skalbagge som berättade en legend om stenar som uppfyller önskningar. Epsilon önskade att skogen skulle förbli orörd. Snart märkte han att den blivit ännu vackrare.\".lower(),\n",
    "            \"de\" : \"Im Herzen des Waldes lebte das Kätzchen Epsilon, grau mit weißen Flecken und Augen wie zwei Monde. Auf einem seiner Streifzüge entdeckte er einen Pfad zwischen Himbeersträuchern, der ihn zu einer Lichtung mit violetten Blumen und glänzenden Kieselsteinen führte. Einer davon leuchtete heller als die anderen. Er nahm ihn mit und traf unterwegs einen Käfer, der ihm eine Legende über Wunschsteine erzählte. Epsilon wünschte sich, dass der Wald unberührt bleibt. Bald bemerkte er, dass der Wald noch schöner geworden war.\".lower(),\n",
    "            \"it\" : \"Nel cuore della foresta viveva il gattino Epsilon, grigio con macchie bianche e occhi che brillavano come due lune. Durante una delle sue passeggiate, scoprì un sentiero tra i lamponi che lo condusse a una radura con fiori viola e sassolini luccicanti. Uno di essi brillava più degli altri. Lo prese con sé e, lungo la strada, incontrò uno scarabeo che gli raccontò una leggenda su pietre che esaudiscono desideri. Epsilon desiderò che la foresta restasse intatta. Presto si accorse che era diventata ancora più bella.\".lower()}"
   ]
  },
  {
   "cell_type": "code",
   "execution_count": 8,
   "id": "2e23e300",
   "metadata": {},
   "outputs": [],
   "source": [
    "encoded_messages = {}\n",
    "for lang, message in messages.items():\n",
    "    encoded_messages[lang] = encode(message, lang_encryption_dicts[lang])"
   ]
  },
  {
   "cell_type": "code",
   "execution_count": 9,
   "id": "0888ce36",
   "metadata": {},
   "outputs": [],
   "source": [
    "attempts = 100\n",
    "max_iters = 25000\n",
    "iters_list = list(range(5000, max_iters+1, 5000))\n",
    "sensitivity = [x/ 100 for x in range(0, 26, 5)]"
   ]
  },
  {
   "cell_type": "code",
   "execution_count": 10,
   "id": "0adae089",
   "metadata": {},
   "outputs": [
    {
     "ename": "KeyboardInterrupt",
     "evalue": "",
     "output_type": "error",
     "traceback": [
      "\u001b[31m---------------------------------------------------------------------------\u001b[39m",
      "\u001b[31mKeyboardInterrupt\u001b[39m                         Traceback (most recent call last)",
      "\u001b[36mCell\u001b[39m\u001b[36m \u001b[39m\u001b[32mIn[10]\u001b[39m\u001b[32m, line 10\u001b[39m\n\u001b[32m      8\u001b[39m perf_list = []\n\u001b[32m      9\u001b[39m \u001b[38;5;28;01mfor\u001b[39;00m iters \u001b[38;5;129;01min\u001b[39;00m iters_list:\n\u001b[32m---> \u001b[39m\u001b[32m10\u001b[39m     solutions, _ = \u001b[43mcross_validation\u001b[49m\u001b[43m(\u001b[49m\u001b[43mattempts\u001b[49m\u001b[43m=\u001b[49m\u001b[43mattempts\u001b[49m\u001b[43m,\u001b[49m\u001b[43m \u001b[49m\u001b[43mencoded_text\u001b[49m\u001b[43m=\u001b[49m\u001b[43mencoded_messages\u001b[49m\u001b[43m[\u001b[49m\u001b[43mlang\u001b[49m\u001b[43m]\u001b[49m\u001b[43m,\u001b[49m\u001b[43m \u001b[49m\u001b[43mperc_dict\u001b[49m\u001b[43m=\u001b[49m\u001b[43mlang_perc_dicts\u001b[49m\u001b[43m[\u001b[49m\u001b[43mlang\u001b[49m\u001b[43m]\u001b[49m\u001b[43m,\u001b[49m\u001b[43m \u001b[49m\u001b[43miters\u001b[49m\u001b[43m=\u001b[49m\u001b[43miters\u001b[49m\u001b[43m,\u001b[49m\u001b[43m \u001b[49m\u001b[43malphabet\u001b[49m\u001b[43m=\u001b[49m\u001b[43mFGN_ALPH\u001b[49m\u001b[43m[\u001b[49m\u001b[43mlang\u001b[49m\u001b[43m]\u001b[49m\u001b[43m)\u001b[49m\n\u001b[32m     11\u001b[39m     perf = eval_close_solutions_lw(messages[lang], solutions, level)\n\u001b[32m     12\u001b[39m     perf_list.append(perf)\n",
      "\u001b[36mFile \u001b[39m\u001b[32m/mnt/c/Users/user/Documents/AZŁM/mcmc-decipher/notebooks/../src/mcmc.py:137\u001b[39m, in \u001b[36mcross_validation\u001b[39m\u001b[34m(attempts, encoded_text, perc_dict, iters, encryption_dict, alphabet)\u001b[39m\n\u001b[32m    135\u001b[39m all_samples = []\n\u001b[32m    136\u001b[39m \u001b[38;5;28;01mfor\u001b[39;00m i \u001b[38;5;129;01min\u001b[39;00m \u001b[38;5;28mrange\u001b[39m(attempts):\n\u001b[32m--> \u001b[39m\u001b[32m137\u001b[39m     _, scores, samples = \u001b[43mdecode_MCMC\u001b[49m\u001b[43m(\u001b[49m\u001b[43mencoded_text\u001b[49m\u001b[43m,\u001b[49m\u001b[43m \u001b[49m\u001b[43mperc_dict\u001b[49m\u001b[43m,\u001b[49m\u001b[43m \u001b[49m\u001b[43miters\u001b[49m\u001b[43m,\u001b[49m\u001b[43m \u001b[49m\u001b[43mencryption_dict\u001b[49m\u001b[43m=\u001b[49m\u001b[43mencryption_dict\u001b[49m\u001b[43m,\u001b[49m\u001b[43m \u001b[49m\u001b[43malphabet\u001b[49m\u001b[43m=\u001b[49m\u001b[43malphabet\u001b[49m\u001b[43m)\u001b[49m\n\u001b[32m    138\u001b[39m     all_scores.append(scores)\n\u001b[32m    139\u001b[39m     all_samples.append(samples[-\u001b[32m1\u001b[39m])\n",
      "\u001b[36mFile \u001b[39m\u001b[32m/mnt/c/Users/user/Documents/AZŁM/mcmc-decipher/notebooks/../src/mcmc.py:98\u001b[39m, in \u001b[36mdecode_MCMC\u001b[39m\u001b[34m(encoded_text, perc_dict, iters, encryption_dict, alphabet, verbose)\u001b[39m\n\u001b[32m     96\u001b[39m proposed_dict = shuffle_pair(current_dict)\n\u001b[32m     97\u001b[39m proposed_decrypted = decode(encoded_text, proposed_dict)\n\u001b[32m---> \u001b[39m\u001b[32m98\u001b[39m proposed_score = \u001b[43mscore_likelihood\u001b[49m\u001b[43m(\u001b[49m\u001b[43mproposed_decrypted\u001b[49m\u001b[43m,\u001b[49m\u001b[43m \u001b[49m\u001b[43mperc_dict\u001b[49m\u001b[43m)\u001b[49m\n\u001b[32m    100\u001b[39m \u001b[38;5;28;01mif\u001b[39;00m eval_proposal(proposed_score, current_score):\n\u001b[32m    101\u001b[39m     current_dict = proposed_dict\n",
      "\u001b[36mFile \u001b[39m\u001b[32m/mnt/c/Users/user/Documents/AZŁM/mcmc-decipher/notebooks/../src/mcmc.py:23\u001b[39m, in \u001b[36mscore_likelihood\u001b[39m\u001b[34m(decoded_text, perc_dict)\u001b[39m\n\u001b[32m     21\u001b[39m \u001b[38;5;28;01mfor\u001b[39;00m i \u001b[38;5;129;01min\u001b[39;00m \u001b[38;5;28mrange\u001b[39m(\u001b[38;5;28mlen\u001b[39m(decoded_text) - \u001b[32m1\u001b[39m):\n\u001b[32m     22\u001b[39m     pair_likelihood = perc_dict[decoded_text[i]][decoded_text[i+\u001b[32m1\u001b[39m]]\n\u001b[32m---> \u001b[39m\u001b[32m23\u001b[39m     total_likelihood += pair_likelihood\n\u001b[32m     24\u001b[39m \u001b[38;5;28;01mreturn\u001b[39;00m total_likelihood\n",
      "\u001b[31mKeyboardInterrupt\u001b[39m: "
     ]
    },
    {
     "data": {
      "image/png": "[encoded data removed]",
      "text/plain": [
       "<Figure size 1600x800 with 6 Axes>"
      ]
     },
     "metadata": {},
     "output_type": "display_data"
    }
   ],
   "source": [
    "colors = [\"#FF9719\", \"#1EC14E\", \"#FF3083\", \"#01FBFF\", \"#B632FF\"]\n",
    "fig, ax = plt.subplots(2, 3, figsize=(16, 8), sharey=True)\n",
    "fig.suptitle(\"Ratio of close solutions against trust level.\", fontsize=15, fontweight=\"bold\")\n",
    "for r in range(2):\n",
    "    for c in range(3):\n",
    "        level = sensitivity[3*r + c]\n",
    "        for i, lang in enumerate(LANG_CODES):\n",
    "            perf_list = []\n",
    "            for iters in iters_list:\n",
    "                solutions, _ = cross_validation(attempts=attempts, encoded_text=encoded_messages[lang], perc_dict=lang_perc_dicts[lang], iters=iters, alphabet=FGN_ALPH[lang])\n",
    "                perf = eval_close_solutions_lw(messages[lang], solutions, level)\n",
    "                perf_list.append(perf)\n",
    "            ax[r][c].plot(iters_list, perf_list, label = lang_code, color = colors[i], alpha = 0.7, ls=\"-\")\n",
    "            ax[r][c].set_xlabel(str(level), fontweight = \"bold\")\n",
    "        legend_handles = [Line2D([0], [0], marker=\"o\", color=\"w\", markerfacecolor=color, markersize=10, label=lang_code) for color, lang_code in zip(colors, LANG_CODES)]\n",
    "        fig.legend(handles=legend_handles, title=\"Language\", loc=6)     \n",
    "\n",
    "fig.text(0.5, 0.01, 'Trust level', ha='center', va='center', fontsize=12, fontweight=\"bold\") \n",
    "plt.show()"
   ]
  },
  {
   "cell_type": "code",
   "execution_count": 11,
   "id": "29ede0bf",
   "metadata": {},
   "outputs": [],
   "source": [
    "en_message = \"In the heart of the forest lived a kitten named Epsilon, gray with white patches and eyes that shone like two moons. During one of his walks, he discovered a path among the raspberries that led him to a clearing filled with purple flowers and sparkling pebbles. One of them shone brighter than the others. He took it with him, and on the way, he met a beetle who told him a legend about stones that grant wishes. Epsilon wished for the forest to remain untouched. Soon, he noticed it had become even more beautiful.\".lower()"
   ]
  },
  {
   "cell_type": "code",
   "execution_count": 12,
   "id": "c62e5842",
   "metadata": {},
   "outputs": [
    {
     "name": "stdout",
     "output_type": "stream",
     "text": [
      "Trying to decode english message with italian probabilities. \n",
      "\n",
      "For trust level: 0.00 close solution ratio for final decoded message was: 0.00.\n",
      "For trust level: 0.05 close solution ratio for final decoded message was: 0.00.\n",
      "For trust level: 0.10 close solution ratio for final decoded message was: 0.00.\n",
      "For trust level: 0.15 close solution ratio for final decoded message was: 0.00.\n",
      "For trust level: 0.20 close solution ratio for final decoded message was: 0.00.\n",
      "For trust level: 0.25 close solution ratio for final decoded message was: 0.00.\n",
      "For trust level: 0.30 close solution ratio for final decoded message was: 0.00.\n",
      "For trust level: 0.35 close solution ratio for final decoded message was: 0.00.\n",
      "For trust level: 0.40 close solution ratio for final decoded message was: 0.00.\n",
      "For trust level: 0.45 close solution ratio for final decoded message was: 0.00.\n",
      "For trust level: 0.50 close solution ratio for final decoded message was: 0.01.\n",
      "For trust level: 0.55 close solution ratio for final decoded message was: 0.02.\n",
      "For trust level: 0.60 close solution ratio for final decoded message was: 0.03.\n",
      "For trust level: 0.65 close solution ratio for final decoded message was: 0.09.\n",
      "For trust level: 0.70 close solution ratio for final decoded message was: 0.16.\n",
      "For trust level: 0.75 close solution ratio for final decoded message was: 0.30.\n",
      "For trust level: 0.80 close solution ratio for final decoded message was: 0.43.\n",
      "For trust level: 0.85 close solution ratio for final decoded message was: 0.55.\n",
      "For trust level: 0.90 close solution ratio for final decoded message was: 0.65.\n",
      "For trust level: 0.95 close solution ratio for final decoded message was: 0.72.\n"
     ]
    }
   ],
   "source": [
    "d = create_encryption_dict()\n",
    "enc = encode(en_message, d)\n",
    "random_code = random.choice(LANG_CODES)\n",
    "decoded_messages = cross_validation(100, enc, lang_perc_dicts[random_code], 25000, alphabet=FGN_ALPH[random_code])[0]\n",
    "sensitivity = [x/ 100 for x in range(0, 100, 5)]\n",
    "l = {\"pl\": \"polish\", \"de\": \"german\", \"hu\": \"hungarian\", \"it\": \"italian\", \"sv\": \"swedish\"}\n",
    "print(f\"Trying to decode english message with {l[random_code]} probabilities. \\n\")\n",
    "for level in sensitivity:\n",
    "    perc = eval_close_solutions_lw(en_message, decoded_messages, level)\n",
    "    print(f\"For trust level: {level:.2f} close solution ratio for final decoded message was: {perc:.2f}.\")"
   ]
  }
 ],
 "metadata": {
  "kernelspec": {
   "display_name": "wikienv",
   "language": "python",
   "name": "python3"
  },
  "language_info": {
   "codemirror_mode": {
    "name": "ipython",
    "version": 3
   },
   "file_extension": ".py",
   "mimetype": "text/x-python",
   "name": "python",
   "nbconvert_exporter": "python",
   "pygments_lexer": "ipython3",
   "version": "3.12.3"
  }
 },
 "nbformat": 4,
 "nbformat_minor": 5
}
