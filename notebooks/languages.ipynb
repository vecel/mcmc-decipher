{
 "cells": [
  {
   "cell_type": "code",
   "execution_count": 1,
   "id": "a9234ac4",
   "metadata": {},
   "outputs": [],
   "source": [
    "import sys\n",
    "import matplotlib.pyplot as plt\n",
    "\n",
    "sys.path.append(\"..\")"
   ]
  },
  {
   "cell_type": "code",
   "execution_count": 39,
   "id": "d3ac0a34",
   "metadata": {},
   "outputs": [],
   "source": [
    "with open(\"../data/sv_corpus.txt\") as file:\n",
    "    corpus = file.read()"
   ]
  },
  {
   "cell_type": "code",
   "execution_count": 40,
   "id": "7ffc256b",
   "metadata": {},
   "outputs": [
    {
     "name": "stdout",
     "output_type": "stream",
     "text": [
      "Corpus has 2768501 characters\n"
     ]
    }
   ],
   "source": [
    "print(\"Corpus has \" + str(len(corpus)) + \" characters\")"
   ]
  },
  {
   "cell_type": "code",
   "execution_count": 30,
   "id": "7751311b",
   "metadata": {},
   "outputs": [],
   "source": [
    "# TODO language performance analisys"
   ]
  }
 ],
 "metadata": {
  "kernelspec": {
   "display_name": "wikienv",
   "language": "python",
   "name": "python3"
  },
  "language_info": {
   "codemirror_mode": {
    "name": "ipython",
    "version": 3
   },
   "file_extension": ".py",
   "mimetype": "text/x-python",
   "name": "python",
   "nbconvert_exporter": "python",
   "pygments_lexer": "ipython3",
   "version": "3.12.3"
  }
 },
 "nbformat": 4,
 "nbformat_minor": 5
}
