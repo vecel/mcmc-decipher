{
 "cells": [
  {
   "cell_type": "code",
   "execution_count": 1,
   "id": "1224fafc",
   "metadata": {},
   "outputs": [],
   "source": [
    "import sys\n",
    "\n",
    "import numpy as np\n",
    "import matplotlib.pyplot as plt\n",
    "import json \n",
    "\n",
    "sys.path.append(\"..\")"
   ]
  },
  {
   "cell_type": "code",
   "execution_count": 2,
   "id": "dd3ec918",
   "metadata": {},
   "outputs": [],
   "source": [
    "from src.mcmc import decode_MCMC_heat\n",
    "from src.cipher_utils import create_encryption_dict, encode"
   ]
  },
  {
   "cell_type": "code",
   "execution_count": 3,
   "id": "c57266b8",
   "metadata": {},
   "outputs": [],
   "source": [
    "text = \"Whiskers was no ordinary cat he believed he was a pirate. Each morning, he climbed the tallest shelf in the house, meowed like a captain, and batted down anything in his path. One day, he discovered a crumpled treasure map under the rug. Tail high, he followed it through the garden, under the fence, and into the neighbors shed. There, among dusty boxes, he found his prize: a forgotten box of tuna. He purred victoriously, the fearless feline captain of Tuna Island.\".lower()"
   ]
  },
  {
   "cell_type": "code",
   "execution_count": 4,
   "id": "74a6fb9c",
   "metadata": {},
   "outputs": [],
   "source": [
    "with open(\"../data/en_perc_dict.json\") as file:\n",
    "    perc_dict = json.load(file)\n",
    "\n",
    "encryption_dict = create_encryption_dict()\n",
    "encoded_text = encode(text, encryption_dict)"
   ]
  },
  {
   "cell_type": "code",
   "execution_count": 12,
   "id": "9e6ff8b9",
   "metadata": {},
   "outputs": [],
   "source": [
    "plan = [np.log(k + 1) for k in range(1800)]"
   ]
  },
  {
   "cell_type": "code",
   "execution_count": 16,
   "id": "4a5ec6d0",
   "metadata": {},
   "outputs": [
    {
     "data": {
      "text/plain": [
       "['f8:pvmxp3frp3g434x6:grxu3!r 38m3jme:m2m638m3frp3r35:xr mw3mr!83,4xg:gsq38m3!e:,jm63 8m3 reemp 3p8me73:g3 8m384zpmq3,m4fm63e:vm3r3!r5 r:gq3rg63jr  m6364fg3rgu 8:gs3:g38:p35r 8w34gm36ruq38m36:p!42mxm63r3!xz,5em63 xmrpzxm3,r53zg6mx3 8m3xzsw3 r:e38:s8q38m374ee4fm63: 3 8x4zs83 8m3srx6mgq3zg6mx3 8m37mg!mq3rg63:g 43 8m3gm:s8j4xp3p8m6w3 8mxmq3r,4gs36zp u3j4.mpq38m374zg638:p35x:om;3r374xs4  mg3j4.3473 zgrw38m35zxxm632:! 4x:4zpeuq3 8m37mrxempp37me:gm3!r5 r:g3473 zgr3:perg6w',\n",
       " 'chinzokn can eu ukrieaky pas ho fodiobor ho can a tikasow oaph vukeieg, ho pdivfor sho saddons nhodm ie sho hulno, voucor dizo a patsaie, aer fassor ruce aeyshieg ie hin tashw ueo ray, ho rinpubokor a pklvtdor skoanlko vat lerok sho klgw said high, ho mudducor is shkulgh sho gakroe, lerok sho moepo, aer iesu sho eoighfukn nhorw shoko, avueg rlnsy fu.on, ho muler hin tkijo: a mukgussoe fu. um sleaw ho tlkkor bipsukiulndy, sho moakdonn modieo patsaie um slea indaerw',\n",
       " 'phisjors pas gu urmigary bat ho foliovom ho pas a kirato. oabh curgige, ho blicfom tho tallost shold ig tho hunso, coupom lijo a baktaig, agm fattom mupg agythige ig his kath. ugo may, ho misbuvorom a brncklom troasnro cak ngmor tho rne. tail hieh, ho dullupom it thruneh tho earmog, ngmor tho dogbo, agm igtu tho goiehfurs shom. thoro, acuge mnsty fuxos, ho dungm his krizo: a dureuttog fux ud tnga. ho knrrom vibturiunsly, tho doarloss doligo baktaig ud tnga islagm.',\n",
       " 'jhisfors jas ge ermigary pat ho boliovom ho jas a kirato. oaph cergigu, ho plicbom tho tallost shold ig tho henso, coejom lifo a paktaig, agm battom mejg agythigu ig his kath. ego may, ho mispevorom a prncklom troasnro cak ngmor tho rnu. tail hiuh, ho dellejom it threnuh tho uarmog, ngmor tho dogpo, agm igte tho goiuhbers shom. thoro, acegu mnsty bexos, ho dengm his krizow a deruettog bex ed tnga. ho knrrom vipteriensly, tho doarloss doligo paktaig ed tnga islagm.',\n",
       " 'whisjers was go ormigary pat he believem he was a kirate. eaph corgigd, he plicbem the tallest shelf ig the honse, ceowem lije a paktaig, agm battem mowg agythigd ig his kath. oge may, he mispoverem a prncklem treasnre cak ngmer the rnd. tail hidh, he followem it throndh the darmeg, ngmer the fegpe, agm igto the geidhbors shem. there, acogd mnsty boxes, he fongm his krizeu a fordotteg box of tnga. he knrrem viptorionsly, the fearless felige paktaig of tnga islagm.',\n",
       " 'whiszers was no orminary pat he believem he was a kirate. eaph cornind, he plicbem the tallest shelf in the hogse, ceowem lize a paktain, anm battem mown anythind in his kath. one may, he mispoverem a prgcklem treasgre cak gnmer the rgd. tail hidh, he followem it throgdh the darmen, gnmer the fenpe, anm into the neidhbors shem. there, acond mgsty boxes, he fognm his kriue: a fordotten box of tgna. he kgrrem viptoriogsly, the fearless feline paktain of tgna islanm.',\n",
       " 'whiszers was no orminarp cat he believem he was a kirate. each dorning, he clidbem the tallest shelf in the house, deowem lize a caktain, anm battem mown anpthing in his kath. one map, he miscoverem a crudklem treasure dak unmer the rug. tail high, he followem it through the garmen, unmer the fence, anm into the neighbors shem. there, adong mustp boyes, he founm his krixe; a forgotten boy of tuna. he kurrem victoriouslp, the fearless feline caktain of tuna islanm.',\n",
       " 'whiszers was no orminary cat he believem he was a kirate. each porning, he clipbem the tallest shelf in the house, peowem lize a caktain, anm battem mown anything in his kath. one may, he miscoverem a crupklem treasure pak unmer the rug. tail high, he followem it through the garmen, unmer the fence, anm into the neighbors shem. there, apong musty bodes, he founm his krixe; a forgotten bod of tuna. he kurrem victoriously, the fearless feline caktain of tuna islanm.',\n",
       " 'whiszers was no orminary cat he believem he was a pirate. each korning, he clikbem the tallest shelf in the house, keowem lize a captain, anm battem mown anything in his path. one may, he miscoverem a crukplem treasure kap unmer the rug. tail high, he followem it through the garmen, unmer the fence, anm into the neighbors shem. there, akong musty bodes, he founm his prixe: a forgotten bod of tuna. he purrem victoriously, the fearless feline captain of tuna islanm.',\n",
       " 'whiskers was no ordinary cat he believed he was a pirate. each zorning, he clizbed the tallest shelf in the house, zeowed like a captain, and batted down anything in his path. one day, he discovered a cruzpled treasure zap under the rug. tail high, he followed it through the garden, under the fence, and into the neighbors shed. there, azong dusty bomes, he found his prixe: a forgotten bom of tuna. he purred victoriously, the fearless feline captain of tuna island.',\n",
       " 'whiskers was no ordinary cat he believed he was a pirate. each xorning, he clixbed the tallest shelf in the house, xeowed like a captain, and batted down anything in his path. one day, he discovered a cruxpled treasure xap under the rug. tail high, he followed it through the garden, under the fence, and into the neighbors shed. there, axong dusty bomes, he found his prize: a forgotten bom of tuna. he purred victoriously, the fearless feline captain of tuna island.',\n",
       " 'whiskers was no ordinary cat he believed he was a pirate. each xorning, he clixbed the tallest shelf in the house, xeowed like a captain, and batted down anything in his path. one day, he discovered a cruxpled treasure xap under the rug. tail high, he followed it through the garden, under the fence, and into the neighbors shed. there, axong dusty bomes, he found his prize: a forgotten bom of tuna. he purred victoriously, the fearless feline captain of tuna island.',\n",
       " 'whiskers was no ordinary cat he believed he was a pirate. each morning, he climbed the tallest shelf in the house, meowed like a captain, and batted down anything in his path. one day, he discovered a crumpled treasure map under the rug. tail high, he followed it through the garden, under the fence, and into the neighbors shed. there, among dusty boxes, he found his prize: a forgotten box of tuna. he purred victoriously, the fearless feline captain of tuna island.',\n",
       " 'whiskers was no ordinary cat he believed he was a pirate. each morning, he climbed the tallest shelf in the house, meowed like a captain, and batted down anything in his path. one day, he discovered a crumpled treasure map under the rug. tail high, he followed it through the garden, under the fence, and into the neighbors shed. there, among dusty boxes, he found his prize: a forgotten box of tuna. he purred victoriously, the fearless feline captain of tuna island.',\n",
       " 'whiskers was no ordinary cat he believed he was a pirate. each morning, he climbed the tallest shelf in the house, meowed like a captain, and batted down anything in his path. one day, he discovered a crumpled treasure map under the rug. tail high, he followed it through the garden, under the fence, and into the neighbors shed. there, among dusty boxes, he found his prize: a forgotten box of tuna. he purred victoriously, the fearless feline captain of tuna island.',\n",
       " 'whiskers was no ordinary cat he believed he was a pirate. each morning, he climbed the tallest shelf in the house, meowed like a captain, and batted down anything in his path. one day, he discovered a crumpled treasure map under the rug. tail high, he followed it through the garden, under the fence, and into the neighbors shed. there, among dusty boxes, he found his prize: a forgotten box of tuna. he purred victoriously, the fearless feline captain of tuna island.',\n",
       " 'whiskers was no ordinary cat he believed he was a pirate. each morning, he climbed the tallest shelf in the house, meowed like a captain, and batted down anything in his path. one day, he discovered a crumpled treasure map under the rug. tail high, he followed it through the garden, under the fence, and into the neighbors shed. there, among dusty boxes, he found his prize: a forgotten box of tuna. he purred victoriously, the fearless feline captain of tuna island.',\n",
       " 'whiskers was no ordinary cat he believed he was a pirate. each morning, he climbed the tallest shelf in the house, meowed like a captain, and batted down anything in his path. one day, he discovered a crumpled treasure map under the rug. tail high, he followed it through the garden, under the fence, and into the neighbors shed. there, among dusty boxes, he found his prize: a forgotten box of tuna. he purred victoriously, the fearless feline captain of tuna island.']"
      ]
     },
     "execution_count": 16,
     "metadata": {},
     "output_type": "execute_result"
    }
   ],
   "source": [
    "decode_MCMC_heat(text, perc_dict, plan, repeat=5)[-1]"
   ]
  }
 ],
 "metadata": {
  "kernelspec": {
   "display_name": "wikienv",
   "language": "python",
   "name": "python3"
  },
  "language_info": {
   "codemirror_mode": {
    "name": "ipython",
    "version": 3
   },
   "file_extension": ".py",
   "mimetype": "text/x-python",
   "name": "python",
   "nbconvert_exporter": "python",
   "pygments_lexer": "ipython3",
   "version": "3.12.3"
  }
 },
 "nbformat": 4,
 "nbformat_minor": 5
}
