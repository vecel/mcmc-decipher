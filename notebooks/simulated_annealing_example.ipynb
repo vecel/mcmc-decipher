{
 "cells": [
  {
   "cell_type": "code",
   "execution_count": 4,
   "id": "1224fafc",
   "metadata": {},
   "outputs": [],
   "source": [
    "import sys\n",
    "\n",
    "import numpy as np\n",
    "import matplotlib.pyplot as plt\n",
    "import json \n",
    "\n",
    "sys.path.append(\"..\")"
   ]
  },
  {
   "cell_type": "code",
   "execution_count": 3,
   "id": "dd3ec918",
   "metadata": {},
   "outputs": [],
   "source": [
    "from src.mcmc import decode_MCMC_heat\n",
    "from src.cipher_utils import create_encryption_dict, encode"
   ]
  },
  {
   "cell_type": "code",
   "execution_count": 6,
   "id": "c57266b8",
   "metadata": {},
   "outputs": [],
   "source": [
    "text = \"Whiskers was no ordinary cat he believed he was a pirate. Each morning, he climbed the tallest shelf in the house, meowed like a captain, and batted down anything in his path. One day, he discovered a crumpled treasure map under the rug. Tail high, he followed it through the garden, under the fence, and into the neighbors shed. There, among dusty boxes, he found his prize: a forgotten box of tuna. He purred victoriously, the fearless feline captain of Tuna Island.\".lower()"
   ]
  },
  {
   "cell_type": "code",
   "execution_count": 7,
   "id": "74a6fb9c",
   "metadata": {},
   "outputs": [],
   "source": [
    "with open(\"../data/en_perc_dict.json\") as file:\n",
    "    perc_dict = json.load(file)\n",
    "\n",
    "encryption_dict = create_encryption_dict()\n",
    "encoded_text = encode(text, encryption_dict)"
   ]
  },
  {
   "cell_type": "code",
   "execution_count": 86,
   "id": "9e6ff8b9",
   "metadata": {},
   "outputs": [],
   "source": [
    "plan = [np.log(k + 1) for k in range(6000)]"
   ]
  },
  {
   "cell_type": "code",
   "execution_count": 92,
   "id": "4a5ec6d0",
   "metadata": {},
   "outputs": [
    {
     "data": {
      "text/plain": [
       "['2w!xy?uxp2oxp3epeui!3ougpzokpw?ps?a!?j?ipw?p2oxpopv!uok?5p?ozwp8eu3!3l;pw?pza!8s?ipkw?pkoaa?xkpxw?a,p!3pkw?pweqx?;p8?e2?ipa!y?popzovko!3;po3ipsokk?ipie23po3gkw!3lp!3pw!xpvokw5pe3?piog;pw?pi!xzej?u?ipopzuq8va?ipku?oxqu?p8ovpq3i?upkw?puql5pko!apw!lw;pw?p,eaae2?ip!kpkwueqlwpkw?ploui?3;pq3i?upkw?p,?3z?;po3ip!3kepkw?p3?!lwseuxpxw?i5pkw?u?;po8e3lpiqxkgpsem?x;pw?p,eq3ipw!xpvu!d?4pop,eulekk?3psempe,pkq3o5pw?pvquu?ipj!zkeu!eqxag;pkw?p,?oua?xxp,?a!3?pzovko!3pe,pkq3op!xao3i5',\n",
       " 'vrsfwalf vof ie elgsiol. tob ra hausapag ra vof o ysloba; aotr kelisicd ra tuskhag bra bouuafb fraum si bra renfad kaevag uswa o toybosid oig hobbag gevi oi.brsic si rsf yobr; eia go.d ra gsftepalag o tlnkyuag blaofnla koy nigal bra lnc; bosu rscrd ra meuuevag sb brlencr bra colgaid nigal bra maitad oig sibe bra iascrhelf frag; bralad okeic gnfb. hexafd ra menig rsf ylsza? o melcebbai hex em bnio; ra ynllag pstbelsenfu.d bra maoluaff mausia toybosi em bnio sfuoig;',\n",
       " 'vrsfbonf vaf ie enmsian. pat ro hoysowom ro vaf a usnato, oapr kenisigd ro pyskhom tro tayyoft froyc si tro relfod koevom ysbo a pautasid aim hattom mevi ai.trsig si rsf uatr, eio ma.d ro msfpewonom a pnlkuyom tnoaflno kau limon tro nlg, tasy rsgrd ro ceyyevom st trnelgr tro ganmoid limon tro coipod aim site tro iosgrhenf from, tronod akeig mlft. hexofd ro celim rsf unszo; a cengettoi hex ec tlia, ro ulnnom wsptenselfy.d tro coanyoff coysio pautasi ec tlia sfyaim,',\n",
       " 'vrifbenf vaf so onmisan. cat re heliepem re vaf a uinate, eacr konsisgd re clikhem tre talleft frelw is tre royfed keovem libe a cautaisd asm hattem movs as.trisg is rif uatr, ose ma.d re mifcopenem a cnykulem tneafyne kau ysmen tre nyg, tail rigrd re wollovem it trnoygr tre ganmesd ysmen tre wesced asm isto tre seigrhonf frem, trened akosg myft. hoxefd re woysm rif unize; a wongottes hox ow tysa, re uynnem pictonioyfl.d tre weanleff welise cautais ow tysa iflasm,',\n",
       " 'bhidzend bad so onmisan. gat he relievem he bad a uinate, eagh consispf he glicrem the talledt dhelw is the hoydef ceobem lize a gautaisf asm rattem mobs as.thisp is hid uath, ose ma.f he midgovenem a gnyculem tneadyne cau ysmen the nyp, tail hiphf he wollobem it thnoyph the panmesf ysmen the wesgef asm isto the seiphrond dhem, thenef acosp mydt. roxedf he woysm hid unike: a wonpottes rox ow tysa, he uynnem vigtonioydl.f the weanledd welise gautais ow tysa idlasm,',\n",
       " 'chidzend cad ro onsiran. gat he melieves he cad a yinatef eagh bonrirp, he glibmes the talledt dhelw ir the houde, beoces lize a gaytair, ars mattes socr ar.thirp ir hid yathf ore sa., he sidgovenes a gnubyles tneadune bay ursen the nupf tail hiph, he wolloces it thnouph the panser, ursen the werge, ars irto the reiphmond dhesf thene, aborp sudt. moked, he wours hid ynixe: a wonpotter mok ow turaf he yunnes vigtonioudl., the weanledd welire gaytair ow tura idlarsf',\n",
       " 'phinzeln pan ro olsiral. gat he medieves he pan a yilatef eagh bolrirc, he gdibmes the taddent nhedw ir the houne, beopes dize a gaytair, ars mattes sopr ar.thirc ir hin yathf ore sa., he singoveles a glubydes tleanule bay ursel the lucf taid hich, he woddopes it thlouch the calser, ursel the werge, ars irto the reichmoln nhesf thele, aborc sunt. moken, he wours hin ylixe: a wolcotter mok ow turaf he yulles vigtoliound., the wealdenn wedire gaytair ow tura indarsf',\n",
       " 'whilzerl wal no orsinarf gat he medieves he wal a yirate. eagh borninc, he gdibmes the taddelt lhedp in the houle, beowes dize a gaytain, ans mattes sown anfthinc in hil yath. one saf, he silgoveres a grubydes trealure bay unser the ruc. taid hich, he poddowes it throuch the carsen, unser the penge, ans into the neichmorl lhes. there, abonc sultf mokel, he pouns hil yrixe: a porcotten mok op tuna. he yurres vigtoriouldf, the peardell pedine gaytain op tuna ildans.',\n",
       " 'whilzerl wal no ordinark cat he besieved he wal a firate. each morning, he csimbed the tasselt lhesp in the houle, meowed size a caftain, and batted down ankthing in hil fath. one dak, he dilcovered a crumfsed trealure maf under the rug. tais high, he possowed it through the garden, under the pence, and into the neighborl lhed. there, among dultk boyel, he pound hil frixe: a porgotten boy op tuna. he furred victorioulsk, the pearsell pesine caftain op tuna ilsand.',\n",
       " 'whiszers was no ordinark cat he believed he was a pirate. each morning, he climbed the tallest shelf in the house, meowed lize a captain, and batted down ankthing in his path. one dak, he discovered a crumpled treasure map under the rug. tail high, he followed it through the garden, under the fence, and into the neighbors shed. there, among dustk boyes, he found his prixe: a forgotten boy of tuna. he purred victoriouslk, the fearless feline captain of tuna island.',\n",
       " 'whiszers was no ordinark cat he believed he was a pirate. each morning, he climbed the tallest shelf in the house, meowed lize a captain, and batted down ankthing in his path. one dak, he discovered a crumpled treasure map under the rug. tail high, he followed it through the garden, under the fence, and into the neighbors shed. there, among dustk boyes, he found his prixe; a forgotten boy of tuna. he purred victoriouslk, the fearless feline captain of tuna island.',\n",
       " 'whiszers was no ordinary cat he believed he was a pirate. each morning, he climbed the tallest shelf in the house, meowed lize a captain, and batted down anything in his path. one day, he discovered a crumpled treasure map under the rug. tail high, he followed it through the garden, under the fence, and into the neighbors shed. there, among dusty bokes, he found his prixe: a forgotten bok of tuna. he purred victoriously, the fearless feline captain of tuna island.']"
      ]
     },
     "execution_count": 92,
     "metadata": {},
     "output_type": "execute_result"
    }
   ],
   "source": [
    "decode_MCMC_heat(text, perc_dict, plan)[-1]"
   ]
  }
 ],
 "metadata": {
  "kernelspec": {
   "display_name": "wikienv",
   "language": "python",
   "name": "python3"
  },
  "language_info": {
   "codemirror_mode": {
    "name": "ipython",
    "version": 3
   },
   "file_extension": ".py",
   "mimetype": "text/x-python",
   "name": "python",
   "nbconvert_exporter": "python",
   "pygments_lexer": "ipython3",
   "version": "3.12.3"
  }
 },
 "nbformat": 4,
 "nbformat_minor": 5
}
